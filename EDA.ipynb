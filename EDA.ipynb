{
 "cells": [
  {
   "attachments": {},
   "cell_type": "markdown",
   "metadata": {},
   "source": [
    "En esta ocacion analizaremos el comportamiento y correlaciones de diversos tipos de datos sobre el sector de la telecomunicacion, especialmente en el area de internet, para ello estaremos utilizando la libreria pandas profiling para visualizar y obtener automaticamente todos los datos relevantes del comportamiento y naturaleza del dataset."
   ]
  },
  {
   "cell_type": "code",
   "execution_count": 2,
   "metadata": {},
   "outputs": [
    {
     "name": "stderr",
     "output_type": "stream",
     "text": [
      "C:\\Users\\Jose J\\AppData\\Local\\Temp\\ipykernel_13384\\1675697194.py:2: DeprecationWarning: `import pandas_profiling` is going to be deprecated by April 1st. Please use `import ydata_profiling` instead.\n",
      "  import pandas_profiling as pp\n"
     ]
    }
   ],
   "source": [
    "import pandas as pd\n",
    "import pandas_profiling as pp\n",
    "\n",
    "def CSVLoad(name: str):\n",
    "    df = pd.read_csv(name, sep=',', encoding='utf-8')\n",
    "\n",
    "    return df\n",
    "\n",
    "pen_inter_100 = CSVLoad(r'Internet_Penetracion.csv')\n",
    "\n",
    "pen_inter_nacional = CSVLoad(r'Internet_Penetracion (1).csv')\n",
    "\n",
    "total_accesos_xBA = CSVLoad(r'Internet_BAF.csv')\n",
    "\n",
    "accesos_xBA_xProvincia = CSVLoad(r'Internet_BAF (1).csv')\n",
    "\n",
    "accesos_trimes_xtech = CSVLoad(r'Internet_Accesos-por-tecnologia.csv')\n",
    "\n",
    "accesos_xtech_y_provincia = CSVLoad(r'Internet_Accesos-por-tecnologia (1).csv')\n",
    "\n",
    "velocidad_media_descarga = CSVLoad(r'historico_velocidad_internet.csv')\n",
    "\n",
    "velocidad_media_descarga_xprovincia = CSVLoad(r'historico_velocidad_internet (1).csv')\n",
    "\n",
    "distrib_accesos_totales_xprovincia = CSVLoad(r'Internet_Accesos-por-velocidad.csv')\n",
    "\n",
    "acceso_internet_xrango_velocidades = CSVLoad(r'Internet_Accesos-por-velocidad (1).csv')\n",
    "\n",
    "acceso_xvelocidad_bajada_y_provincia = CSVLoad(r'AccesosaInternetfijoporvelocidadbajadayprovincia_2791741681935878966.csv')\n",
    "\n",
    "ingresos_trimestrales_internet_fijo = CSVLoad(r'Internet_Ingresos.csv')\n",
    "\n",
    "acceso_xvelocidad_bajada_y_localidad = CSVLoad(r'AccesosaInternetfijoporvelocidaddebajadaylocalidad_2776171681936033191.csv')\n",
    "\n",
    "acceso_xtech_y_localidad = CSVLoad(r'AccesosaInternetfijoportecnologiaylocalidad_2791751681936105365.csv')\n",
    "\n",
    "listado_localidades_conectadas = CSVLoad(r'Listadodelocalidadesconconectividadainternet_2750221681936173766.csv')\n",
    "\n",
    "conectividad_internet = CSVLoad(r'ConectividadalserviciodeInternet_2776151681936289130.csv')\n"
   ]
  },
  {
   "cell_type": "code",
   "execution_count": null,
   "metadata": {},
   "outputs": [],
   "source": [
    "pp.ProfileReport(pen_inter_100).to_notebook_iframe()\n"
   ]
  },
  {
   "attachments": {},
   "cell_type": "markdown",
   "metadata": {},
   "source": [
    "Se puede observar que el dataframe de penetracion de servicion por cada 100 hogares no tiene nulos, no presenta outliers, la columna \"Accesos por cada 100 hogares\" presenta la cantidad de accesos con internet por cada 100h hogares, el cual puede ser un dato interesante para futuro"
   ]
  },
  {
   "cell_type": "code",
   "execution_count": null,
   "metadata": {},
   "outputs": [],
   "source": [
    "pp.ProfileReport(pen_inter_nacional).to_notebook_iframe()"
   ]
  },
  {
   "attachments": {},
   "cell_type": "markdown",
   "metadata": {},
   "source": [
    "Igual de limpio que el anterior, no contiene nulos y tiene valores razonable, sin presencia de outliers.\n",
    "\n",
    "Fuera de eso nos da mejor informacion en general sobre el total de accesos por cada 100 horgares y habitantes pero por trimestre general, en vez de por privincia, esto nos puede ser muy util."
   ]
  },
  {
   "cell_type": "code",
   "execution_count": null,
   "metadata": {},
   "outputs": [],
   "source": [
    "pp.ProfileReport(total_accesos_xBA).to_notebook_iframe()"
   ]
  },
  {
   "attachments": {},
   "cell_type": "markdown",
   "metadata": {},
   "source": [
    "Tenemos tambien un dataset muy limpio, estas columnas de banda ancha sera buena para futuros KPIs por ejemplo su relacion con respecto a los ingresos.\n",
    "\n",
    "Tambien nos sirve mucho para obtener el numero total de accesos en cad trimestre."
   ]
  },
  {
   "cell_type": "code",
   "execution_count": null,
   "metadata": {},
   "outputs": [],
   "source": [
    "pp.ProfileReport(accesos_xBA_xProvincia).to_notebook_iframe()"
   ]
  },
  {
   "attachments": {},
   "cell_type": "markdown",
   "metadata": {},
   "source": [
    "Como podemos ver tiene muy pocos nulos, la columna Dial Up tiene el numero 0 como \"- 0\" habra que cambiarlo en caso de ser necesario, esta interesante por si queremos hacer algun kpi orientado a acceso por banda ancha en una provincia en especifico o sector del pais"
   ]
  },
  {
   "cell_type": "code",
   "execution_count": null,
   "metadata": {},
   "outputs": [],
   "source": [
    "pp.ProfileReport(accesos_trimes_xtech).to_notebook_iframe()"
   ]
  },
  {
   "attachments": {},
   "cell_type": "markdown",
   "metadata": {},
   "source": [
    "Aqui podemos observar cual es la cantidad de accesos al servicio por tecnologia, nos puede ser muy util como metrica para comprobar cual sera por ejemplo la tecnologia que mas ingreso dara si se expande, en base a las concluciones que podemos sacar de este dataframe"
   ]
  },
  {
   "cell_type": "code",
   "execution_count": null,
   "metadata": {},
   "outputs": [],
   "source": [
    "pp.ProfileReport(accesos_xtech_y_provincia).to_notebook_iframe()"
   ]
  },
  {
   "attachments": {},
   "cell_type": "markdown",
   "metadata": {},
   "source": [
    "Es lo mismo que el anterior dataframe pero por provincia, en la columna de año y trimestre hay errores con unos valores con el caracter \"*\", en dado caso que sea necesario se debera cambiar"
   ]
  },
  {
   "cell_type": "code",
   "execution_count": null,
   "metadata": {},
   "outputs": [],
   "source": [
    "pp.ProfileReport(velocidad_media_descarga).to_notebook_iframe()"
   ]
  },
  {
   "attachments": {},
   "cell_type": "markdown",
   "metadata": {},
   "source": [
    "Muy util tambien, podriamos sacar la tendencia de la velocidad media y compararla con otras metricas "
   ]
  },
  {
   "cell_type": "code",
   "execution_count": null,
   "metadata": {},
   "outputs": [],
   "source": [
    "pp.ProfileReport(velocidad_media_descarga_xprovincia).to_notebook_iframe()"
   ]
  },
  {
   "attachments": {},
   "cell_type": "markdown",
   "metadata": {},
   "source": [
    "Lo mismo que el anteriro, solo que tiene 2 columna que pueden ser dropeadas ya que estan nulas y es por provincia la descarga media"
   ]
  },
  {
   "cell_type": "code",
   "execution_count": null,
   "metadata": {},
   "outputs": [],
   "source": [
    "pp.ProfileReport(distrib_accesos_totales_xprovincia).to_notebook_iframe()"
   ]
  },
  {
   "attachments": {},
   "cell_type": "markdown",
   "metadata": {},
   "source": [
    "Este dataframe resulta muy util para poder ver que tal se comporta la tendencia del estandar de consume de internet al pasar los años, siendo el mas usado ahora +30mbps, entre otras cosas se puede quitar la columna nula"
   ]
  },
  {
   "cell_type": "code",
   "execution_count": null,
   "metadata": {},
   "outputs": [],
   "source": [
    "pp.ProfileReport(acceso_internet_xrango_velocidades).to_notebook_iframe()"
   ]
  },
  {
   "attachments": {},
   "cell_type": "markdown",
   "metadata": {},
   "source": [
    "Lo mismo que el anterior pero con informacion por provincia"
   ]
  },
  {
   "cell_type": "code",
   "execution_count": null,
   "metadata": {},
   "outputs": [],
   "source": [
    "pp.ProfileReport(acceso_xvelocidad_bajada_y_provincia).to_notebook_iframe()"
   ]
  },
  {
   "attachments": {},
   "cell_type": "markdown",
   "metadata": {},
   "source": [
    "Podemos ver una informacion mas detallada que el dataframe anterior, pero no aporta tanto adems de los diferentes datos por provincia"
   ]
  },
  {
   "cell_type": "code",
   "execution_count": null,
   "metadata": {},
   "outputs": [],
   "source": [
    "pp.ProfileReport(ingresos_trimestrales_internet_fijo).to_notebook_iframe()"
   ]
  },
  {
   "attachments": {},
   "cell_type": "markdown",
   "metadata": {},
   "source": [
    "Informacion sobre ingresos siempre es escencial para sacar KPIs para el negocio"
   ]
  },
  {
   "cell_type": "code",
   "execution_count": null,
   "metadata": {},
   "outputs": [],
   "source": [
    "pp.ProfileReport(acceso_xvelocidad_bajada_y_localidad).to_notebook_iframe()"
   ]
  },
  {
   "attachments": {},
   "cell_type": "markdown",
   "metadata": {},
   "source": [
    "Podemos ver que la data tiene muchos errores, muchos nulos y informacion difusa, por lo tanto sera mejor descartarla"
   ]
  },
  {
   "cell_type": "code",
   "execution_count": null,
   "metadata": {},
   "outputs": [],
   "source": [
    "pp.ProfileReport(acceso_xtech_y_localidad).to_notebook_iframe()"
   ]
  },
  {
   "attachments": {},
   "cell_type": "markdown",
   "metadata": {},
   "source": [
    "Con este dataframe podemos observar que la mayoria de sus datos para la cantidad de acceso por tecnologia la mayoria son \"- 0\" lo cual no aporta mucha informacion, y para un KPI general no aporta mucho valor como para uno especifico para una localidad"
   ]
  },
  {
   "cell_type": "code",
   "execution_count": null,
   "metadata": {},
   "outputs": [],
   "source": [
    "pp.ProfileReport(listado_localidades_conectadas).to_notebook_iframe()"
   ]
  },
  {
   "attachments": {},
   "cell_type": "markdown",
   "metadata": {},
   "source": [
    "Resulta util el dataset ya que por ejemplo podemos aprovechar el metodo describe y observar cual es el servicio que mas se consume, ya sea 4g o wireless, hay informacion que nos puede resultar util, ademas de sus correlaciones."
   ]
  },
  {
   "cell_type": "code",
   "execution_count": null,
   "metadata": {},
   "outputs": [],
   "source": [
    "pp.ProfileReport(conectividad_internet).to_notebook_iframe()"
   ]
  },
  {
   "attachments": {},
   "cell_type": "markdown",
   "metadata": {},
   "source": [
    "Datos muy parecidos con respecto al anterior, tiene practicamente los mismos fines"
   ]
  },
  {
   "attachments": {},
   "cell_type": "markdown",
   "metadata": {},
   "source": [
    "Ahora para obtener un poco de informacion relevante sobre los diferentes mercados de la telecomunicacion utilizaremos otros datasets aparte sobre la Telefonia Fija, la telefonia Movil y la TV por subscripcion y satelital, de ahi utilizaremos la data de Ingreso Trimestral para los 3, la penetracion en el acceso para la telefonia movil y el ingreso trimestral movil"
   ]
  },
  {
   "cell_type": "code",
   "execution_count": 20,
   "metadata": {},
   "outputs": [],
   "source": [
    "ingresos_trimestrales_fija = pd.read_csv('Dataset_a_usar\\datasets KPI otros sectores telecomunicacion\\Ingresos trimestrales fija.csv', sep=',', encoding='utf-8')\n",
    "\n",
    "ingresos_trimestrales_movil = pd.read_csv('Dataset_a_usar\\datasets KPI otros sectores telecomunicacion\\Ingresos trimestrales movil.csv', sep=',', encoding='utf-8')\n",
    "\n",
    "ingresos_trimestrales_tv = pd.read_csv('Dataset_a_usar\\datasets KPI otros sectores telecomunicacion\\Ingresos trimestrales television.csv', sep=',', encoding='utf-8')\n",
    "\n",
    "pen_100_habitantes_movil = pd.read_csv('Dataset_a_usar\\datasets KPI otros sectores telecomunicacion\\pen_100_habitantes_movil.csv', sep=',', encoding='utf-8')"
   ]
  },
  {
   "cell_type": "code",
   "execution_count": null,
   "metadata": {},
   "outputs": [],
   "source": [
    "pp.ProfileReport(ingresos_trimestrales_fija).to_notebook_iframe()"
   ]
  },
  {
   "attachments": {},
   "cell_type": "markdown",
   "metadata": {},
   "source": [
    "Podemos observar un dataset muy limpio, donde se puede apreciar los ingresos trimestrales para la telefonia movil, este puede resultar muy util para conocer las condiciones de un mercado en el que se puede expandir la empresa"
   ]
  },
  {
   "cell_type": "code",
   "execution_count": null,
   "metadata": {},
   "outputs": [],
   "source": [
    "pp.ProfileReport(ingresos_trimestrales_movil).to_notebook_iframe()"
   ]
  },
  {
   "attachments": {},
   "cell_type": "markdown",
   "metadata": {},
   "source": [
    "Muy parecido al anterior, igual de limpio y se observa la misma informacion."
   ]
  },
  {
   "cell_type": "code",
   "execution_count": null,
   "metadata": {},
   "outputs": [],
   "source": [
    "pp.ProfileReport(ingresos_trimestrales_tv).to_notebook_iframe()"
   ]
  },
  {
   "attachments": {},
   "cell_type": "markdown",
   "metadata": {},
   "source": [
    "Tambien muy limpio y con informacion importante respecto a los ingresos por el sector de TV, en este caso por satelital o por subscripcion."
   ]
  },
  {
   "cell_type": "code",
   "execution_count": null,
   "metadata": {},
   "outputs": [],
   "source": [
    "pp.ProfileReport(pen_100_habitantes_movil).to_notebook_iframe()"
   ]
  },
  {
   "attachments": {},
   "cell_type": "markdown",
   "metadata": {},
   "source": [
    "Esta data nos presenta la penetracion por cada 100 habitantes para el mercado de movil, por lo tanto puede resultar util para especificar por ejemplo alguna relevancia de este dato en el mercado."
   ]
  },
  {
   "attachments": {},
   "cell_type": "markdown",
   "metadata": {},
   "source": [
    "Estos datos resultan muy productivos para explicar futuros comportamientos de diferentes KPIs planteados para diferentes situaciones, en base a eso y la integridad de cada uno decidimos utilizar los siguientes datos:\n",
    "\n",
    "pen_inter_100\n",
    "\n",
    "pen_inter_nacional\n",
    "\n",
    "accesos_xtech_y_provincia\n",
    "\n",
    "ingresos_trimestrales_internet_fijo\n",
    "\n",
    "ingresos_trimestrales_movil\n",
    "\n",
    "pen_100_habitantes_movil\n",
    "\n",
    "ingresos_trimestrales_fija\n",
    "\n",
    "ingresos_trimestrales_tv\n",
    "\n",
    "accesos_trimes_xtech\n",
    "\n",
    "velocidad_media_descarga"
   ]
  },
  {
   "cell_type": "code",
   "execution_count": 21,
   "metadata": {},
   "outputs": [],
   "source": [
    "if False:\n",
    "    pen_inter_100.to_csv('Dataset_a_usar/pen_inter_100.csv', sep=';', encoding='utf-8',index=False)\n",
    "\n",
    "    pen_inter_nacional.to_csv('Dataset_a_usar/pen_inter_nacional.csv', sep=';', encoding='utf-8',index=False)\n",
    "\n",
    "    velocidad_media_descarga.to_csv('Dataset_a_usar/velocidad_media_descarga.csv', sep=';', encoding='utf-8',index=False)\n",
    "\n",
    "    ingresos_trimestrales_internet_fijo.to_csv('Dataset_a_usar/ingresos_trimestrales_internet_fijo.csv', sep=';', encoding='utf-8',index=False)\n",
    "\n",
    "    ingresos_trimestrales_fija.to_csv('Dataset_a_usar/ingresos_trimestrales_fija',sep=';', encoding='utf-8', index=False)\n",
    "\n",
    "    ingresos_trimestrales_movil.to_csv('Dataset_a_usar/ingresos_trimestrales_movil',sep=';', encoding='utf-8', index=False)\n",
    "\n",
    "    ingresos_trimestrales_tv.to_csv('Dataset_a_usar/ingresos_trimestrales_tv',sep=';', encoding='utf-8', index=False)\n",
    "\n",
    "    pen_100_habitantes_movil.to_csv('Dataset_a_usar/pen_100_habitantes_movil',sep=';', encoding='utf-8', index=False)"
   ]
  }
 ],
 "metadata": {
  "kernelspec": {
   "display_name": "Python 3",
   "language": "python",
   "name": "python3"
  },
  "language_info": {
   "codemirror_mode": {
    "name": "ipython",
    "version": 3
   },
   "file_extension": ".py",
   "mimetype": "text/x-python",
   "name": "python",
   "nbconvert_exporter": "python",
   "pygments_lexer": "ipython3",
   "version": "3.10.0"
  },
  "orig_nbformat": 4
 },
 "nbformat": 4,
 "nbformat_minor": 2
}
